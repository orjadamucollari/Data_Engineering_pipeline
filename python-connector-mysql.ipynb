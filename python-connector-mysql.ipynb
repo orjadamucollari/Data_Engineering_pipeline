{
 "cells": [
  {
   "cell_type": "code",
   "execution_count": 4,
   "id": "5237e33c-9f17-4dc7-8e5f-8110b176d935",
   "metadata": {},
   "outputs": [],
   "source": [
    "# import api keys\n",
    "from api_keys import *"
   ]
  },
  {
   "cell_type": "code",
   "execution_count": null,
   "id": "155e2dc5-c625-4d71-bef3-1adc76c4cb79",
   "metadata": {},
   "outputs": [],
   "source": []
  },
  {
   "cell_type": "markdown",
   "id": "eaf89b69-98fd-44ba-920e-936dff6b21df",
   "metadata": {},
   "source": [
    "## Flights API"
   ]
  },
  {
   "cell_type": "markdown",
   "id": "f0b040ed",
   "metadata": {},
   "source": []
  },
  {
   "cell_type": "code",
   "execution_count": null,
   "id": "118559ad-79e4-4155-aa82-a4193204bf33",
   "metadata": {
    "tags": []
   },
   "outputs": [],
   "source": [
    "from datetime import datetime, timedelta\n",
    "\n",
    "airport_icoa = \"EDDB\"\n",
    "to_local_time = datetime.now().strftime('%Y-%m-%dT%H:00')\n",
    "from_local_time = (datetime.now() + timedelta(hours=9)).strftime('%Y-%m-%dT%H:00')\n",
    "url = f\"https://aerodatabox.p.rapidapi.com/flights/airports/icao/{airport_icoa}/{to_local_time}/{from_local_time}\"\n",
    "\n",
    "\n",
    "import requests\n",
    "\n",
    "querystring = {\"withLeg\":\"true\",\"withCancelled\":\"true\",\"withCodeshared\":\"true\",\"withCargo\":\"true\",\"withPrivate\":\"false\",\"withLocation\":\"false\"}\n",
    "\n",
    "headers = {\n",
    "    'x-rapidapi-host': \"aerodatabox.p.rapidapi.com\",\n",
    "    'x-rapidapi-key': flight_api_key\n",
    "    }\n",
    "\n",
    "response = requests.request(\"GET\", url, headers=headers, params=querystring)\n",
    "\n",
    "from IPython.display import JSON\n",
    "response.json()"
   ]
  },
  {
   "cell_type": "code",
   "execution_count": null,
   "id": "7089cd61-639d-455b-9333-b524fc8fca13",
   "metadata": {},
   "outputs": [],
   "source": [
    "### Option 1\n",
    "arrivals_berlin = response.json()['arrivals']\n",
    "\n",
    "def get_flight_info(flight_json):\n",
    "    # terminal\n",
    "    try: terminal = flight_json['arrival']['terminal']\n",
    "    except: terminal = None\n",
    "    # aircraft\n",
    "    try: aircraft = flight_json['aircraft']['model']\n",
    "    except: aircraft = None\n",
    "\n",
    "    return {\n",
    "        'dep_airport':flight_json['departure']['airport']['name'],\n",
    "        'sched_arr_loc_time':flight_json['arrival']['scheduledTimeLocal'],\n",
    "        'terminal':terminal,\n",
    "        'status':flight_json['status'],\n",
    "        'aircraft':aircraft,\n",
    "        'icao_code':airport_icoa\n",
    "    }\n",
    "\n",
    "\n",
    "import pandas as pd\n",
    "# [get_flight_info(flight) for flight in arrivals_berlin]\n",
    "arrivals_berlin = pd.DataFrame([get_flight_info(flight) for flight in arrivals_berlin])\n",
    "arrivals_berlin"
   ]
  },
  {
   "cell_type": "code",
   "execution_count": null,
   "id": "3317f616-0e53-42ca-9085-bec1352cc2d5",
   "metadata": {},
   "outputs": [],
   "source": [
    "### Option 2\n",
    "import pandas as pd\n",
    "arrivals = pd.json_normalize(response.json()['arrivals'])\n",
    "# next step: select the columns you want to incude on your database\n",
    "(\n",
    "arrivals\n",
    "    .filter(['departure.airport.name','arrival.scheduledTimeLocal',\n",
    "             'arrival.terminal','status','aircraft.model'])\n",
    "    .assign(icao_code = airport_icoa)\n",
    ")"
   ]
  },
  {
   "cell_type": "markdown",
   "id": "18faf618-b292-4ab6-a818-d4efb73dd186",
   "metadata": {},
   "source": [
    "## Wheather API"
   ]
  },
  {
   "cell_type": "markdown",
   "id": "152a90e3-2ff6-46a7-89fd-d91b484b05a7",
   "metadata": {},
   "source": [
    "### Using `pyowm` library"
   ]
  },
  {
   "cell_type": "code",
   "execution_count": null,
   "id": "5096417d-dd48-4a50-94f1-fe1dd0345880",
   "metadata": {},
   "outputs": [],
   "source": [
    "!pip install pyowm \n",
    "from pyowm import OWM\n",
    "from pyowm.utils import config\n",
    "from pyowm.utils import timestamps\n",
    "import pandas as pd\n",
    "\n",
    "city = \"Berlin\"\n",
    "country = \"DE\"\n",
    "\n",
    "owm = OWM(OWM_key)\n",
    "mgr = owm.weather_manager()\n",
    "\n",
    "# Will it be clear tomorrow at this time in Milan (Italy) ?\n",
    "forecast = mgr.forecast_at_place(city + ',' + country, '3h')\n",
    "# answer = forecast.will_be_clear_at(timestamps.tomorrow())\n",
    "\n",
    "from numpy import nan\n",
    "\n",
    "def forecast_extraction(forecast_object): \n",
    "    \"\"\"\n",
    "    Given a forecast object from Open weathor Pyhton API, \n",
    "    return a structured dataframe. \n",
    "\n",
    "    :param: forecast object\n",
    "    :returns: a dataframe with specific weather information\n",
    "    \"\"\"\n",
    "    forecast_df = pd.json_normalize({\n",
    "        'time' : forecast_object.reference_time(timeformat='date'), \n",
    "        'temperature' : forecast_object.temperature(unit='celsius'), \n",
    "        'precipitation_probabily' : forecast_object.precipitation_probability, \n",
    "        'rain' : forecast_object.rain, \n",
    "        'humidity' : forecast_object.humidity, \n",
    "        'status' : forecast_object.status, \n",
    "        'snow' : [nan if forecast_object.snow is None else forecast_object.snow], \n",
    "        'wind' : forecast_object.wind('km_hour')\n",
    "    })\n",
    "\n",
    "    return(forecast_df)\n",
    "\n",
    "weather_forecast = pd.concat(\n",
    "    [forecast_extraction(weather) for weather in forecast.forecast.weathers]\n",
    ")\n",
    "\n",
    "weather_forecast.head()"
   ]
  },
  {
   "cell_type": "markdown",
   "id": "62105324-ef89-4609-af79-a7c816b515fc",
   "metadata": {},
   "source": [
    "### Connecting to OWM API"
   ]
  },
  {
   "cell_type": "code",
   "execution_count": null,
   "id": "db3ea2a3-6efd-4c19-8afa-cb1800fdaf5f",
   "metadata": {},
   "outputs": [],
   "source": [
    "# achieve the same result with the wather api\n",
    "response = requests.get(f'http://api.openweathermap.org/data/2.5/forecast/?q={city},{country}&appid={OWM_key}&units=metric&lang=en')\n",
    "\n",
    "from IPython.display import JSON\n",
    "JSON(response.json())\n"
   ]
  },
  {
   "cell_type": "code",
   "execution_count": null,
   "id": "38359d0d-25a6-4a76-8a4f-2469becd62db",
   "metadata": {},
   "outputs": [],
   "source": [
    "forecast_api = response.json()['list']\n",
    "# look for the fields that could ve relevant: \n",
    "# better field descriptions https://www.weatherbit.io/api/weather-forecast-5-day\n",
    "\n",
    "weather_info = []\n",
    "\n",
    "# datetime, temperature, wind, prob_perc, rain_qty, snow = [], [], [], [], [], []\n",
    "for forecast_3h in forecast_api: \n",
    "    weather_hour = {}\n",
    "    # datetime utc\n",
    "    weather_hour['datetime'] = forecast_3h['dt_txt']\n",
    "    # temperature \n",
    "    weather_hour['temperature'] = forecast_3h['main']['temp']\n",
    "    # wind\n",
    "    weather_hour['wind'] = forecast_3h['wind']['speed']\n",
    "    # probability precipitation \n",
    "    try: weather_hour['prob_perc'] = float(forecast_3h['pop'])\n",
    "    except: weather_hour['prob_perc'] = 0\n",
    "    # rain\n",
    "    try: weather_hour['rain_qty'] = float(forecast_3h['rain']['3h'])\n",
    "    except: weather_hour['rain_qty'] = 0\n",
    "    # wind \n",
    "    try: weather_hour['snow'] = float(forecast_3h['snow']['3h'])\n",
    "    except: weather_hour['snow'] = 0\n",
    "    weather_hour['municipality_iso_country'] = city + ',' + country\n",
    "    weather_info.append(weather_hour)\n",
    "    \n",
    "weather_data = pd.DataFrame(weather_info)\n",
    "weather_data.head()"
   ]
  },
  {
   "cell_type": "markdown",
   "id": "223ced61-266e-4357-98da-39d8913d90d8",
   "metadata": {},
   "source": [
    "## Population data"
   ]
  },
  {
   "cell_type": "code",
   "execution_count": null,
   "id": "39886116-8a42-4bf0-aa97-375682413e64",
   "metadata": {},
   "outputs": [],
   "source": [
    "import requests\n",
    "from bs4 import BeautifulSoup as bs\n",
    "import pandas as pd\n",
    "import unicodedata\n",
    "\n",
    "# cities = ['Berlin', 'Hamburg', 'Frankfurt','Munich','Stuttgart','Leipzig','Cologne','Dresden','Hannover','Paris', 'Barcelona','Lisbon','Madrid']\n",
    "cities = ['Berlin','Paris','Amsterdam','Barcelona','Rome','Lisbon','Prague','Vienna','Madrid']\n",
    "\n",
    "def City_info(soup):\n",
    "    \n",
    "    ret_dict = {}\n",
    "    ret_dict['city'] = soup.h1.get_text()\n",
    "    \n",
    "    \n",
    "    if soup.select_one('.mergedrow:-soup-contains(\"Mayor\")>.infobox-label') != None:\n",
    "        i = soup.select_one('.mergedrow:-soup-contains(\"Mayor\")>.infobox-label')\n",
    "        mayor_name_html = i.find_next_sibling()\n",
    "        mayor_name = unicodedata.normalize('NFKD',mayor_name_html.get_text())\n",
    "        ret_dict['mayor']  = mayor_name\n",
    "    \n",
    "    if soup.select_one('.mergedrow:-soup-contains(\"City\")>.infobox-label') != None:\n",
    "        j =  soup.select_one('.mergedrow:-soup-contains(\"City\")>.infobox-label')\n",
    "        area = j.find_next_sibling('td').get_text()\n",
    "        ret_dict['city_size'] = unicodedata.normalize('NFKD',area)\n",
    "\n",
    "    if soup.select_one('.mergedtoprow:-soup-contains(\"Elevation\")>.infobox-data') != None:\n",
    "        k = soup.select_one('.mergedtoprow:-soup-contains(\"Elevation\")>.infobox-data')\n",
    "        elevation_html = k.get_text()\n",
    "        ret_dict['elevation'] = unicodedata.normalize('NFKD',elevation_html)\n",
    "    \n",
    "    if soup.select_one('.mergedtoprow:-soup-contains(\"Population\")') != None:\n",
    "        l = soup.select_one('.mergedtoprow:-soup-contains(\"Population\")')\n",
    "        c_pop = l.findNext('td').get_text()\n",
    "        ret_dict['city_population'] = c_pop\n",
    "    \n",
    "    if soup.select_one('.infobox-label>[title^=Urban]') != None:\n",
    "        m = soup.select_one('.infobox-label>[title^=Urban]')\n",
    "        u_pop = m.findNext('td')\n",
    "        ret_dict['urban_population'] = u_pop.get_text()\n",
    "\n",
    "    if soup.select_one('.infobox-label>[title^=Metro]') != None:\n",
    "        n = soup.select_one('.infobox-label>[title^=Metro]')\n",
    "        m_pop = n.findNext('td')\n",
    "        ret_dict['metro_population'] = m_pop.get_text()\n",
    "    \n",
    "    if soup.select_one('.latitude') != None:\n",
    "        o = soup.select_one('.latitude')\n",
    "        ret_dict['lat'] = o.get_text()\n",
    "\n",
    "    if soup.select_one('.longitude') != None:    \n",
    "        p = soup.select_one('.longitude')\n",
    "        ret_dict['long'] = p.get_text()\n",
    "    \n",
    "    return ret_dict\n",
    "\n",
    "list_of_city_info = []\n",
    "for city in cities:\n",
    "    url = 'https://en.wikipedia.org/wiki/{}'.format(city)\n",
    "    web = requests.get(url,'html.parser')\n",
    "    soup = bs(web.content)\n",
    "    list_of_city_info.append(City_info(soup))\n",
    "df_cities = pd.DataFrame(list_of_city_info)\n",
    "# df_cities = df_cities.set_index('city')\n",
    "df_cities"
   ]
  },
  {
   "cell_type": "markdown",
   "id": "53c8081b-545c-4558-981b-93581aa07309",
   "metadata": {},
   "source": [
    "## Airports data"
   ]
  },
  {
   "cell_type": "code",
   "execution_count": null,
   "id": "15b388c0-a605-4234-a415-ee16da024587",
   "metadata": {},
   "outputs": [],
   "source": [
    "import pandas as pd\n",
    "\n",
    "airports_cities = (\n",
    "pd.read_csv('airports.csv')\n",
    "    .query('type == \"large_airport\"')\n",
    "    .filter(['name','latitude_deg','longitude_deg','iso_country','iso_region','municipality','gps_code','iata_code'])\n",
    "    .rename(columns={'gps_code':'icao_code'})\n",
    "    .assign(municipality_iso_country = lambda x: x['municipality'] + ',' + x['iso_country'])\n",
    ")\n",
    "airports_cities.head()"
   ]
  },
  {
   "cell_type": "code",
   "execution_count": null,
   "id": "8ea3def6-eb92-4c58-b8fb-93a2d211eb5a",
   "metadata": {},
   "outputs": [],
   "source": [
    "airports_cities.query('municipality == \"Berlin\"')"
   ]
  },
  {
   "cell_type": "markdown",
   "id": "a0ad5947-6172-43fc-9f0a-3789a4b1fb8e",
   "metadata": {},
   "source": [
    "## Check the tables"
   ]
  },
  {
   "cell_type": "code",
   "execution_count": null,
   "id": "92f3a58b-18df-4556-821b-e526ba3fe34b",
   "metadata": {},
   "outputs": [],
   "source": [
    "cities = airports_cities.filter(['municipality','iso_country','municipality_iso_country']).drop_duplicates()\n",
    "cities.head()"
   ]
  },
  {
   "cell_type": "code",
   "execution_count": null,
   "id": "dcdfdef7-1cd0-429d-892e-3bdfc1083a66",
   "metadata": {},
   "outputs": [],
   "source": [
    "airports_cities.merge(arrivals_berlin, on='icao_code', how='inner').merge(weather_data, on='municipality_iso_country', how='inner').head()"
   ]
  },
  {
   "cell_type": "code",
   "execution_count": null,
   "id": "62b1c2a5",
   "metadata": {},
   "outputs": [],
   "source": [
    "df_cities"
   ]
  },
  {
   "cell_type": "code",
   "execution_count": 20,
   "id": "e927225c",
   "metadata": {},
   "outputs": [],
   "source": [
    "df_cities['municipality_iso_country'] = [\n",
    "    'Berlin,DE',\n",
    "    'Paris,FR',\n",
    "    'Amsterdam,NL',\n",
    "    'Barcelona,ES',\n",
    "    'Rome,IT',\n",
    "    'Lisbon,PT',\n",
    "    'Prague,CZE',\n",
    "    'Vienna,AT',\n",
    "    'Madrid,ES'\n",
    "]"
   ]
  },
  {
   "cell_type": "markdown",
   "id": "78660346-6ce7-41a5-80cc-0e018825e54e",
   "metadata": {},
   "source": [
    "## Update data into database"
   ]
  },
  {
   "cell_type": "code",
   "execution_count": null,
   "id": "7a68fd02",
   "metadata": {},
   "outputs": [],
   "source": [
    "weather_data.info()\n"
   ]
  },
  {
   "cell_type": "markdown",
   "id": "c4064d5d-de67-4a36-86a7-3fdc271e00a1",
   "metadata": {},
   "source": [
    "### `sqlalchemy`"
   ]
  },
  {
   "cell_type": "markdown",
   "id": "7501b136-8223-4e30-8c3c-96d1560fd288",
   "metadata": {},
   "source": [
    "#### Establish the connection"
   ]
  },
  {
   "cell_type": "code",
   "execution_count": 28,
   "id": "cc2ce62b-8fe9-42cc-8a9b-bad25fc60252",
   "metadata": {},
   "outputs": [],
   "source": [
    "import pandas as pd\n",
    "# import sqlalchemy"
   ]
  },
  {
   "cell_type": "code",
   "execution_count": 23,
   "id": "1eab7e9d-5994-48c9-9111-711ce8d1b019",
   "metadata": {},
   "outputs": [],
   "source": [
    "schema=\"gans\"\n",
    "host=\"127.0.0.1\"\n",
    "user=\"root\"\n",
    "password=\"mySQL_password\"\n",
    "port=3306\n",
    "con = f'mysql+pymysql://{user}:{password}@{host}:{port}/{schema}'"
   ]
  },
  {
   "cell_type": "markdown",
   "id": "5ce7200a-3763-4112-9ec7-0af3709cd871",
   "metadata": {},
   "source": [
    "#### Update the tables"
   ]
  },
  {
   "cell_type": "code",
   "execution_count": 29,
   "id": "e960f19e-2e6a-46b8-a3d0-a1d9e4133cce",
   "metadata": {
    "tags": []
   },
   "outputs": [],
   "source": [
    "(\n",
    "df_cities\n",
    "    .dropna()\n",
    "    .rename(\n",
    "        columns={\n",
    "            'lat':'latitude',\n",
    "            'long':'longitude'\n",
    "            }\n",
    "        )\n",
    "    .to_sql('cities', con=con, if_exists='append', index=False)\n",
    "    )"
   ]
  },
  {
   "cell_type": "code",
   "execution_count": 30,
   "id": "09720c74-578e-4b2d-8d0a-2f9dc2b7993d",
   "metadata": {
    "collapsed": true,
    "jupyter": {
     "outputs_hidden": true
    },
    "tags": []
   },
   "outputs": [],
   "source": [
    "airports_cities.dropna().to_sql('airports_cities', if_exists='append', con=con, index=False)"
   ]
  },
  {
   "cell_type": "code",
   "execution_count": 31,
   "id": "2816dca8-9d1f-4de1-8d5e-80afc64fc641",
   "metadata": {},
   "outputs": [],
   "source": [
    "weather_data.assign(datetime = lambda x: pd.to_datetime(x['datetime'])).to_sql('weather', if_exists='append', con=con, index=False)"
   ]
  },
  {
   "cell_type": "code",
   "execution_count": null,
   "id": "432216b5",
   "metadata": {},
   "outputs": [],
   "source": [
    "arrivals_berlin"
   ]
  },
  {
   "cell_type": "code",
   "execution_count": null,
   "id": "28e438b5-e367-475b-b609-1813f60f8a0c",
   "metadata": {},
   "outputs": [],
   "source": [
    "import numpy as np\n",
    "(\n",
    "arrivals_berlin\n",
    "    .replace({np.nan},'unknown')\n",
    "    .assign(sched_arr_loc_time = lambda x: pd.to_datetime(x['sched_arr_loc_time']))\n",
    "    .to_sql('arrivals', if_exists='append', con=con, index=False))"
   ]
  },
  {
   "cell_type": "code",
   "execution_count": 1,
   "id": "086472fe",
   "metadata": {},
   "outputs": [
    {
     "data": {
      "text/html": [
       "        <script type=\"text/javascript\">\n",
       "        window.PlotlyConfig = {MathJaxConfig: 'local'};\n",
       "        if (window.MathJax) {MathJax.Hub.Config({SVG: {font: \"STIX-Web\"}});}\n",
       "        if (typeof require !== 'undefined') {\n",
       "        require.undef(\"plotly\");\n",
       "        requirejs.config({\n",
       "            paths: {\n",
       "                'plotly': ['https://cdn.plot.ly/plotly-2.9.0.min']\n",
       "            }\n",
       "        });\n",
       "        require(['plotly'], function(Plotly) {\n",
       "            window._Plotly = Plotly;\n",
       "        });\n",
       "        }\n",
       "        </script>\n",
       "        "
      ]
     },
     "metadata": {},
     "output_type": "display_data"
    },
    {
     "data": {
      "text/html": [
       "        <script type=\"text/javascript\">\n",
       "        window.PlotlyConfig = {MathJaxConfig: 'local'};\n",
       "        if (window.MathJax) {MathJax.Hub.Config({SVG: {font: \"STIX-Web\"}});}\n",
       "        if (typeof require !== 'undefined') {\n",
       "        require.undef(\"plotly\");\n",
       "        requirejs.config({\n",
       "            paths: {\n",
       "                'plotly': ['https://cdn.plot.ly/plotly-2.9.0.min']\n",
       "            }\n",
       "        });\n",
       "        require(['plotly'], function(Plotly) {\n",
       "            window._Plotly = Plotly;\n",
       "        });\n",
       "        }\n",
       "        </script>\n",
       "        "
      ]
     },
     "metadata": {},
     "output_type": "display_data"
    },
    {
     "data": {
      "application/vnd.plotly.v1+json": {
       "config": {
        "linkText": "Export to plot.ly",
        "plotlyServerURL": "https://plot.ly",
        "showLink": true
       },
       "data": [
        {
         "line": {
          "color": "rgba(255, 153, 51, 1.0)",
          "dash": "solid",
          "shape": "linear",
          "width": 1.3
         },
         "mode": "lines",
         "name": "a",
         "text": "",
         "type": "scatter",
         "x": [
          0,
          1,
          2,
          3,
          4,
          5,
          6,
          7,
          8,
          9,
          10,
          11,
          12,
          13,
          14,
          15,
          16,
          17,
          18,
          19,
          20,
          21,
          22,
          23,
          24,
          25,
          26,
          27,
          28,
          29,
          30,
          31,
          32,
          33,
          34,
          35,
          36,
          37,
          38,
          39,
          40,
          41,
          42,
          43,
          44,
          45,
          46,
          47,
          48,
          49
         ],
         "y": [
          -0.04004360289359913,
          -0.75164930201915,
          1.3608313532869618,
          0.4022867461824601,
          -1.2118102225657588,
          1.1701668908549732,
          0.8236673820285991,
          1.0764892751525605,
          0.9111033336557225,
          -0.5532129717925429,
          -0.8782088710756313,
          -0.10720625238816815,
          0.5039407660439239,
          -0.2932687038073112,
          2.6196600252346154,
          0.985026120578912,
          -1.4796068384226397,
          -0.6780678070932329,
          -1.4037889614920624,
          1.493728685085431,
          -0.9048755922257851,
          -0.6522101406431529,
          -0.9221006698602634,
          -0.12334924260816213,
          -1.5745048889351327,
          0.7780396276239749,
          1.4626235715630682,
          -0.7531341051322951,
          0.4499681371287792,
          -0.23994112676126872,
          2.101001212681541,
          0.6077535417546704,
          0.1946946606777699,
          -0.1541338036236303,
          -0.6958796236024531,
          0.3326918923409161,
          -0.703366966849764,
          1.0673314989777252,
          1.4931751326027467,
          0.12486642089770855,
          -0.3137221718474716,
          1.2109739352359912,
          -0.5438275422595645,
          -0.2971511280756288,
          -0.6663287168617832,
          0.22396180239886235,
          -2.15180392788145,
          0.4268641329956737,
          0.10130785240168615,
          -0.3392341410187695
         ]
        },
        {
         "line": {
          "color": "rgba(55, 128, 191, 1.0)",
          "dash": "solid",
          "shape": "linear",
          "width": 1.3
         },
         "mode": "lines",
         "name": "b",
         "text": "",
         "type": "scatter",
         "x": [
          0,
          1,
          2,
          3,
          4,
          5,
          6,
          7,
          8,
          9,
          10,
          11,
          12,
          13,
          14,
          15,
          16,
          17,
          18,
          19,
          20,
          21,
          22,
          23,
          24,
          25,
          26,
          27,
          28,
          29,
          30,
          31,
          32,
          33,
          34,
          35,
          36,
          37,
          38,
          39,
          40,
          41,
          42,
          43,
          44,
          45,
          46,
          47,
          48,
          49
         ],
         "y": [
          0.511933207640022,
          0.9867082658311334,
          2.1940853853034623,
          -0.5537842012592004,
          -0.386763567366859,
          -0.8277538391695065,
          -0.2549864739120929,
          -1.0012752243101555,
          -0.6792484897345263,
          -0.8790399065290038,
          0.0744804835031544,
          0.029600132610388095,
          -0.9274491417337681,
          -0.10962491645318274,
          -0.12548661248840204,
          0.030595687088955045,
          -1.0794729890437225,
          -1.4263688224935454,
          -2.466565318833337,
          -1.1255511433257508,
          -2.575025934057237,
          1.1009117576655187,
          1.0022061835033587,
          -1.3150894260642891,
          -1.7790630405562384,
          1.0747397301308348,
          0.7972162027985032,
          -1.1110778200373184,
          -0.17166885477015742,
          0.22008338899178878,
          0.8772435860025293,
          -0.10383356354431579,
          -1.528398376513317,
          -1.8693432395377474,
          0.44710311160023336,
          -0.5196407130204069,
          1.4995698290414363,
          -1.6755189418393128,
          -0.8070613760216371,
          -1.2884224256775678,
          0.43938029226100245,
          -0.7054169724943037,
          -0.5614007996772886,
          0.5700942492524579,
          -0.19369456024706044,
          0.3610942033213448,
          0.2434167705275034,
          -1.75410087694615,
          -0.2608281214032451,
          -0.6007506054082888
         ]
        },
        {
         "line": {
          "color": "rgba(50, 171, 96, 1.0)",
          "dash": "solid",
          "shape": "linear",
          "width": 1.3
         },
         "mode": "lines",
         "name": "c",
         "text": "",
         "type": "scatter",
         "x": [
          0,
          1,
          2,
          3,
          4,
          5,
          6,
          7,
          8,
          9,
          10,
          11,
          12,
          13,
          14,
          15,
          16,
          17,
          18,
          19,
          20,
          21,
          22,
          23,
          24,
          25,
          26,
          27,
          28,
          29,
          30,
          31,
          32,
          33,
          34,
          35,
          36,
          37,
          38,
          39,
          40,
          41,
          42,
          43,
          44,
          45,
          46,
          47,
          48,
          49
         ],
         "y": [
          -0.8366713316837386,
          -0.1393309510948683,
          0.19545055225849545,
          -0.16966299372748475,
          -0.4550021072241301,
          1.331376155250598,
          -0.47147448503714057,
          -0.12786154725428042,
          -0.8105234624592302,
          0.34112445433206195,
          -0.6468021002765861,
          0.74120283784585,
          0.574282145000396,
          -1.110447352014391,
          0.14292403800483783,
          0.6663215711283491,
          0.6597445540878236,
          0.6504264656467631,
          -0.542336409710927,
          0.5880559402865915,
          0.5607816664337071,
          0.45531386922117034,
          1.3946114523374442,
          -0.1582411584952272,
          -0.4163727075078487,
          -0.9107885861607452,
          -0.6258677736957691,
          -1.065925075051022,
          -0.4132986798877167,
          1.953933882488452,
          -1.480134176809112,
          0.20651237113975707,
          -0.6530158672490212,
          -1.6351291892928799,
          -0.46730723093123244,
          1.7128262612962988,
          -0.6554746880216706,
          -1.0371440771109428,
          -0.9505086951455829,
          1.535816278771727,
          -1.2796174886996354,
          -1.1275869030698755,
          0.15946107375225302,
          -1.358005390789839,
          1.9984883065804138,
          -0.40693780026270115,
          0.15436703287129136,
          1.2145520686865123,
          -0.27838061862766816,
          -0.09733110344511846
         ]
        },
        {
         "line": {
          "color": "rgba(128, 0, 128, 1.0)",
          "dash": "solid",
          "shape": "linear",
          "width": 1.3
         },
         "mode": "lines",
         "name": "d",
         "text": "",
         "type": "scatter",
         "x": [
          0,
          1,
          2,
          3,
          4,
          5,
          6,
          7,
          8,
          9,
          10,
          11,
          12,
          13,
          14,
          15,
          16,
          17,
          18,
          19,
          20,
          21,
          22,
          23,
          24,
          25,
          26,
          27,
          28,
          29,
          30,
          31,
          32,
          33,
          34,
          35,
          36,
          37,
          38,
          39,
          40,
          41,
          42,
          43,
          44,
          45,
          46,
          47,
          48,
          49
         ],
         "y": [
          -0.2889127358702883,
          0.08740312883222376,
          -0.14265658598214395,
          0.4301139566725566,
          -1.019752780911339,
          -0.477558212819846,
          0.8798528795244414,
          0.8741084448731534,
          -1.2586403052976012,
          0.8546721327910863,
          -1.3357783275266004,
          0.261819726402101,
          -0.9503705113062506,
          1.0186130351804865,
          0.2875187305048612,
          -0.2735199834914119,
          -0.0221555738920522,
          0.5181244652435315,
          -0.4164454451513519,
          -1.3588785569999196,
          -0.6952643926828254,
          -1.3269044770493477,
          0.06408239334219493,
          -0.5705919460616599,
          0.7957593415444191,
          2.6000424800758104,
          0.7284299476405873,
          -0.532260032667479,
          -1.9015781536536052,
          1.8613244102694082,
          0.21512256482335346,
          0.15700080037533853,
          0.5166703759113608,
          0.21809688164234306,
          -0.7661256941834118,
          3.3017525609833682,
          0.4747615664992886,
          -0.4728233766592755,
          -0.3227545038745599,
          -0.2069938521879116,
          0.058739444721687885,
          -0.992006624760395,
          -0.1943702843441311,
          1.1417371662231315,
          -0.1737881929290892,
          -1.8542352203487773,
          1.046188831403989,
          0.8452347920324879,
          -1.585743855983834,
          0.27611218467930027
         ]
        }
       ],
       "layout": {
        "autosize": true,
        "legend": {
         "bgcolor": "#F5F6F9",
         "font": {
          "color": "#4D5663"
         }
        },
        "paper_bgcolor": "#F5F6F9",
        "plot_bgcolor": "#F5F6F9",
        "template": {
         "data": {
          "bar": [
           {
            "error_x": {
             "color": "#2a3f5f"
            },
            "error_y": {
             "color": "#2a3f5f"
            },
            "marker": {
             "line": {
              "color": "#E5ECF6",
              "width": 0.5
             },
             "pattern": {
              "fillmode": "overlay",
              "size": 10,
              "solidity": 0.2
             }
            },
            "type": "bar"
           }
          ],
          "barpolar": [
           {
            "marker": {
             "line": {
              "color": "#E5ECF6",
              "width": 0.5
             },
             "pattern": {
              "fillmode": "overlay",
              "size": 10,
              "solidity": 0.2
             }
            },
            "type": "barpolar"
           }
          ],
          "carpet": [
           {
            "aaxis": {
             "endlinecolor": "#2a3f5f",
             "gridcolor": "white",
             "linecolor": "white",
             "minorgridcolor": "white",
             "startlinecolor": "#2a3f5f"
            },
            "baxis": {
             "endlinecolor": "#2a3f5f",
             "gridcolor": "white",
             "linecolor": "white",
             "minorgridcolor": "white",
             "startlinecolor": "#2a3f5f"
            },
            "type": "carpet"
           }
          ],
          "choropleth": [
           {
            "colorbar": {
             "outlinewidth": 0,
             "ticks": ""
            },
            "type": "choropleth"
           }
          ],
          "contour": [
           {
            "colorbar": {
             "outlinewidth": 0,
             "ticks": ""
            },
            "colorscale": [
             [
              0,
              "#0d0887"
             ],
             [
              0.1111111111111111,
              "#46039f"
             ],
             [
              0.2222222222222222,
              "#7201a8"
             ],
             [
              0.3333333333333333,
              "#9c179e"
             ],
             [
              0.4444444444444444,
              "#bd3786"
             ],
             [
              0.5555555555555556,
              "#d8576b"
             ],
             [
              0.6666666666666666,
              "#ed7953"
             ],
             [
              0.7777777777777778,
              "#fb9f3a"
             ],
             [
              0.8888888888888888,
              "#fdca26"
             ],
             [
              1,
              "#f0f921"
             ]
            ],
            "type": "contour"
           }
          ],
          "contourcarpet": [
           {
            "colorbar": {
             "outlinewidth": 0,
             "ticks": ""
            },
            "type": "contourcarpet"
           }
          ],
          "heatmap": [
           {
            "colorbar": {
             "outlinewidth": 0,
             "ticks": ""
            },
            "colorscale": [
             [
              0,
              "#0d0887"
             ],
             [
              0.1111111111111111,
              "#46039f"
             ],
             [
              0.2222222222222222,
              "#7201a8"
             ],
             [
              0.3333333333333333,
              "#9c179e"
             ],
             [
              0.4444444444444444,
              "#bd3786"
             ],
             [
              0.5555555555555556,
              "#d8576b"
             ],
             [
              0.6666666666666666,
              "#ed7953"
             ],
             [
              0.7777777777777778,
              "#fb9f3a"
             ],
             [
              0.8888888888888888,
              "#fdca26"
             ],
             [
              1,
              "#f0f921"
             ]
            ],
            "type": "heatmap"
           }
          ],
          "heatmapgl": [
           {
            "colorbar": {
             "outlinewidth": 0,
             "ticks": ""
            },
            "colorscale": [
             [
              0,
              "#0d0887"
             ],
             [
              0.1111111111111111,
              "#46039f"
             ],
             [
              0.2222222222222222,
              "#7201a8"
             ],
             [
              0.3333333333333333,
              "#9c179e"
             ],
             [
              0.4444444444444444,
              "#bd3786"
             ],
             [
              0.5555555555555556,
              "#d8576b"
             ],
             [
              0.6666666666666666,
              "#ed7953"
             ],
             [
              0.7777777777777778,
              "#fb9f3a"
             ],
             [
              0.8888888888888888,
              "#fdca26"
             ],
             [
              1,
              "#f0f921"
             ]
            ],
            "type": "heatmapgl"
           }
          ],
          "histogram": [
           {
            "marker": {
             "pattern": {
              "fillmode": "overlay",
              "size": 10,
              "solidity": 0.2
             }
            },
            "type": "histogram"
           }
          ],
          "histogram2d": [
           {
            "colorbar": {
             "outlinewidth": 0,
             "ticks": ""
            },
            "colorscale": [
             [
              0,
              "#0d0887"
             ],
             [
              0.1111111111111111,
              "#46039f"
             ],
             [
              0.2222222222222222,
              "#7201a8"
             ],
             [
              0.3333333333333333,
              "#9c179e"
             ],
             [
              0.4444444444444444,
              "#bd3786"
             ],
             [
              0.5555555555555556,
              "#d8576b"
             ],
             [
              0.6666666666666666,
              "#ed7953"
             ],
             [
              0.7777777777777778,
              "#fb9f3a"
             ],
             [
              0.8888888888888888,
              "#fdca26"
             ],
             [
              1,
              "#f0f921"
             ]
            ],
            "type": "histogram2d"
           }
          ],
          "histogram2dcontour": [
           {
            "colorbar": {
             "outlinewidth": 0,
             "ticks": ""
            },
            "colorscale": [
             [
              0,
              "#0d0887"
             ],
             [
              0.1111111111111111,
              "#46039f"
             ],
             [
              0.2222222222222222,
              "#7201a8"
             ],
             [
              0.3333333333333333,
              "#9c179e"
             ],
             [
              0.4444444444444444,
              "#bd3786"
             ],
             [
              0.5555555555555556,
              "#d8576b"
             ],
             [
              0.6666666666666666,
              "#ed7953"
             ],
             [
              0.7777777777777778,
              "#fb9f3a"
             ],
             [
              0.8888888888888888,
              "#fdca26"
             ],
             [
              1,
              "#f0f921"
             ]
            ],
            "type": "histogram2dcontour"
           }
          ],
          "mesh3d": [
           {
            "colorbar": {
             "outlinewidth": 0,
             "ticks": ""
            },
            "type": "mesh3d"
           }
          ],
          "parcoords": [
           {
            "line": {
             "colorbar": {
              "outlinewidth": 0,
              "ticks": ""
             }
            },
            "type": "parcoords"
           }
          ],
          "pie": [
           {
            "automargin": true,
            "type": "pie"
           }
          ],
          "scatter": [
           {
            "marker": {
             "colorbar": {
              "outlinewidth": 0,
              "ticks": ""
             }
            },
            "type": "scatter"
           }
          ],
          "scatter3d": [
           {
            "line": {
             "colorbar": {
              "outlinewidth": 0,
              "ticks": ""
             }
            },
            "marker": {
             "colorbar": {
              "outlinewidth": 0,
              "ticks": ""
             }
            },
            "type": "scatter3d"
           }
          ],
          "scattercarpet": [
           {
            "marker": {
             "colorbar": {
              "outlinewidth": 0,
              "ticks": ""
             }
            },
            "type": "scattercarpet"
           }
          ],
          "scattergeo": [
           {
            "marker": {
             "colorbar": {
              "outlinewidth": 0,
              "ticks": ""
             }
            },
            "type": "scattergeo"
           }
          ],
          "scattergl": [
           {
            "marker": {
             "colorbar": {
              "outlinewidth": 0,
              "ticks": ""
             }
            },
            "type": "scattergl"
           }
          ],
          "scattermapbox": [
           {
            "marker": {
             "colorbar": {
              "outlinewidth": 0,
              "ticks": ""
             }
            },
            "type": "scattermapbox"
           }
          ],
          "scatterpolar": [
           {
            "marker": {
             "colorbar": {
              "outlinewidth": 0,
              "ticks": ""
             }
            },
            "type": "scatterpolar"
           }
          ],
          "scatterpolargl": [
           {
            "marker": {
             "colorbar": {
              "outlinewidth": 0,
              "ticks": ""
             }
            },
            "type": "scatterpolargl"
           }
          ],
          "scatterternary": [
           {
            "marker": {
             "colorbar": {
              "outlinewidth": 0,
              "ticks": ""
             }
            },
            "type": "scatterternary"
           }
          ],
          "surface": [
           {
            "colorbar": {
             "outlinewidth": 0,
             "ticks": ""
            },
            "colorscale": [
             [
              0,
              "#0d0887"
             ],
             [
              0.1111111111111111,
              "#46039f"
             ],
             [
              0.2222222222222222,
              "#7201a8"
             ],
             [
              0.3333333333333333,
              "#9c179e"
             ],
             [
              0.4444444444444444,
              "#bd3786"
             ],
             [
              0.5555555555555556,
              "#d8576b"
             ],
             [
              0.6666666666666666,
              "#ed7953"
             ],
             [
              0.7777777777777778,
              "#fb9f3a"
             ],
             [
              0.8888888888888888,
              "#fdca26"
             ],
             [
              1,
              "#f0f921"
             ]
            ],
            "type": "surface"
           }
          ],
          "table": [
           {
            "cells": {
             "fill": {
              "color": "#EBF0F8"
             },
             "line": {
              "color": "white"
             }
            },
            "header": {
             "fill": {
              "color": "#C8D4E3"
             },
             "line": {
              "color": "white"
             }
            },
            "type": "table"
           }
          ]
         },
         "layout": {
          "annotationdefaults": {
           "arrowcolor": "#2a3f5f",
           "arrowhead": 0,
           "arrowwidth": 1
          },
          "autotypenumbers": "strict",
          "coloraxis": {
           "colorbar": {
            "outlinewidth": 0,
            "ticks": ""
           }
          },
          "colorscale": {
           "diverging": [
            [
             0,
             "#8e0152"
            ],
            [
             0.1,
             "#c51b7d"
            ],
            [
             0.2,
             "#de77ae"
            ],
            [
             0.3,
             "#f1b6da"
            ],
            [
             0.4,
             "#fde0ef"
            ],
            [
             0.5,
             "#f7f7f7"
            ],
            [
             0.6,
             "#e6f5d0"
            ],
            [
             0.7,
             "#b8e186"
            ],
            [
             0.8,
             "#7fbc41"
            ],
            [
             0.9,
             "#4d9221"
            ],
            [
             1,
             "#276419"
            ]
           ],
           "sequential": [
            [
             0,
             "#0d0887"
            ],
            [
             0.1111111111111111,
             "#46039f"
            ],
            [
             0.2222222222222222,
             "#7201a8"
            ],
            [
             0.3333333333333333,
             "#9c179e"
            ],
            [
             0.4444444444444444,
             "#bd3786"
            ],
            [
             0.5555555555555556,
             "#d8576b"
            ],
            [
             0.6666666666666666,
             "#ed7953"
            ],
            [
             0.7777777777777778,
             "#fb9f3a"
            ],
            [
             0.8888888888888888,
             "#fdca26"
            ],
            [
             1,
             "#f0f921"
            ]
           ],
           "sequentialminus": [
            [
             0,
             "#0d0887"
            ],
            [
             0.1111111111111111,
             "#46039f"
            ],
            [
             0.2222222222222222,
             "#7201a8"
            ],
            [
             0.3333333333333333,
             "#9c179e"
            ],
            [
             0.4444444444444444,
             "#bd3786"
            ],
            [
             0.5555555555555556,
             "#d8576b"
            ],
            [
             0.6666666666666666,
             "#ed7953"
            ],
            [
             0.7777777777777778,
             "#fb9f3a"
            ],
            [
             0.8888888888888888,
             "#fdca26"
            ],
            [
             1,
             "#f0f921"
            ]
           ]
          },
          "colorway": [
           "#636efa",
           "#EF553B",
           "#00cc96",
           "#ab63fa",
           "#FFA15A",
           "#19d3f3",
           "#FF6692",
           "#B6E880",
           "#FF97FF",
           "#FECB52"
          ],
          "font": {
           "color": "#2a3f5f"
          },
          "geo": {
           "bgcolor": "white",
           "lakecolor": "white",
           "landcolor": "#E5ECF6",
           "showlakes": true,
           "showland": true,
           "subunitcolor": "white"
          },
          "hoverlabel": {
           "align": "left"
          },
          "hovermode": "closest",
          "mapbox": {
           "style": "light"
          },
          "paper_bgcolor": "white",
          "plot_bgcolor": "#E5ECF6",
          "polar": {
           "angularaxis": {
            "gridcolor": "white",
            "linecolor": "white",
            "ticks": ""
           },
           "bgcolor": "#E5ECF6",
           "radialaxis": {
            "gridcolor": "white",
            "linecolor": "white",
            "ticks": ""
           }
          },
          "scene": {
           "xaxis": {
            "backgroundcolor": "#E5ECF6",
            "gridcolor": "white",
            "gridwidth": 2,
            "linecolor": "white",
            "showbackground": true,
            "ticks": "",
            "zerolinecolor": "white"
           },
           "yaxis": {
            "backgroundcolor": "#E5ECF6",
            "gridcolor": "white",
            "gridwidth": 2,
            "linecolor": "white",
            "showbackground": true,
            "ticks": "",
            "zerolinecolor": "white"
           },
           "zaxis": {
            "backgroundcolor": "#E5ECF6",
            "gridcolor": "white",
            "gridwidth": 2,
            "linecolor": "white",
            "showbackground": true,
            "ticks": "",
            "zerolinecolor": "white"
           }
          },
          "shapedefaults": {
           "line": {
            "color": "#2a3f5f"
           }
          },
          "ternary": {
           "aaxis": {
            "gridcolor": "white",
            "linecolor": "white",
            "ticks": ""
           },
           "baxis": {
            "gridcolor": "white",
            "linecolor": "white",
            "ticks": ""
           },
           "bgcolor": "#E5ECF6",
           "caxis": {
            "gridcolor": "white",
            "linecolor": "white",
            "ticks": ""
           }
          },
          "title": {
           "x": 0.05
          },
          "xaxis": {
           "automargin": true,
           "gridcolor": "white",
           "linecolor": "white",
           "ticks": "",
           "title": {
            "standoff": 15
           },
           "zerolinecolor": "white",
           "zerolinewidth": 2
          },
          "yaxis": {
           "automargin": true,
           "gridcolor": "white",
           "linecolor": "white",
           "ticks": "",
           "title": {
            "standoff": 15
           },
           "zerolinecolor": "white",
           "zerolinewidth": 2
          }
         }
        },
        "title": {
         "font": {
          "color": "#4D5663"
         }
        },
        "xaxis": {
         "autorange": true,
         "gridcolor": "#E1E5ED",
         "range": [
          0,
          49
         ],
         "showgrid": true,
         "tickfont": {
          "color": "#4D5663"
         },
         "title": {
          "font": {
           "color": "#4D5663"
          },
          "text": ""
         },
         "type": "linear",
         "zerolinecolor": "#E1E5ED"
        },
        "yaxis": {
         "autorange": true,
         "gridcolor": "#E1E5ED",
         "range": [
          -2.9015136282261595,
          3.6282402551522908
         ],
         "showgrid": true,
         "tickfont": {
          "color": "#4D5663"
         },
         "title": {
          "font": {
           "color": "#4D5663"
          },
          "text": ""
         },
         "type": "linear",
         "zerolinecolor": "#E1E5ED"
        }
       }
      },
      "image/png": "[encoded data removed]",
      "text/html": [
       "<div>                            <div id=\"c3b72f1d-2522-4b8f-8012-0d173f354067\" class=\"plotly-graph-div\" style=\"height:525px; width:100%;\"></div>            <script type=\"text/javascript\">                require([\"plotly\"], function(Plotly) {                    window.PLOTLYENV=window.PLOTLYENV || {};\n",
       "                    window.PLOTLYENV.BASE_URL='https://plot.ly';                                    if (document.getElementById(\"c3b72f1d-2522-4b8f-8012-0d173f354067\")) {                    Plotly.newPlot(                        \"c3b72f1d-2522-4b8f-8012-0d173f354067\",                        [{\"line\":{\"color\":\"rgba(255, 153, 51, 1.0)\",\"dash\":\"solid\",\"shape\":\"linear\",\"width\":1.3},\"mode\":\"lines\",\"name\":\"a\",\"text\":\"\",\"x\":[0,1,2,3,4,5,6,7,8,9,10,11,12,13,14,15,16,17,18,19,20,21,22,23,24,25,26,27,28,29,30,31,32,33,34,35,36,37,38,39,40,41,42,43,44,45,46,47,48,49],\"y\":[-0.04004360289359913,-0.75164930201915,1.3608313532869618,0.4022867461824601,-1.2118102225657588,1.1701668908549732,0.8236673820285991,1.0764892751525605,0.9111033336557225,-0.5532129717925429,-0.8782088710756313,-0.10720625238816815,0.5039407660439239,-0.2932687038073112,2.6196600252346154,0.985026120578912,-1.4796068384226397,-0.6780678070932329,-1.4037889614920624,1.493728685085431,-0.9048755922257851,-0.6522101406431529,-0.9221006698602634,-0.12334924260816213,-1.5745048889351327,0.7780396276239749,1.4626235715630682,-0.7531341051322951,0.4499681371287792,-0.23994112676126872,2.101001212681541,0.6077535417546704,0.1946946606777699,-0.1541338036236303,-0.6958796236024531,0.3326918923409161,-0.703366966849764,1.0673314989777252,1.4931751326027467,0.12486642089770855,-0.3137221718474716,1.2109739352359912,-0.5438275422595645,-0.2971511280756288,-0.6663287168617832,0.22396180239886235,-2.15180392788145,0.4268641329956737,0.10130785240168615,-0.3392341410187695],\"type\":\"scatter\"},{\"line\":{\"color\":\"rgba(55, 128, 191, 1.0)\",\"dash\":\"solid\",\"shape\":\"linear\",\"width\":1.3},\"mode\":\"lines\",\"name\":\"b\",\"text\":\"\",\"x\":[0,1,2,3,4,5,6,7,8,9,10,11,12,13,14,15,16,17,18,19,20,21,22,23,24,25,26,27,28,29,30,31,32,33,34,35,36,37,38,39,40,41,42,43,44,45,46,47,48,49],\"y\":[0.511933207640022,0.9867082658311334,2.1940853853034623,-0.5537842012592004,-0.386763567366859,-0.8277538391695065,-0.2549864739120929,-1.0012752243101555,-0.6792484897345263,-0.8790399065290038,0.0744804835031544,0.029600132610388095,-0.9274491417337681,-0.10962491645318274,-0.12548661248840204,0.030595687088955045,-1.0794729890437225,-1.4263688224935454,-2.466565318833337,-1.1255511433257508,-2.575025934057237,1.1009117576655187,1.0022061835033587,-1.3150894260642891,-1.7790630405562384,1.0747397301308348,0.7972162027985032,-1.1110778200373184,-0.17166885477015742,0.22008338899178878,0.8772435860025293,-0.10383356354431579,-1.528398376513317,-1.8693432395377474,0.44710311160023336,-0.5196407130204069,1.4995698290414363,-1.6755189418393128,-0.8070613760216371,-1.2884224256775678,0.43938029226100245,-0.7054169724943037,-0.5614007996772886,0.5700942492524579,-0.19369456024706044,0.3610942033213448,0.2434167705275034,-1.75410087694615,-0.2608281214032451,-0.6007506054082888],\"type\":\"scatter\"},{\"line\":{\"color\":\"rgba(50, 171, 96, 1.0)\",\"dash\":\"solid\",\"shape\":\"linear\",\"width\":1.3},\"mode\":\"lines\",\"name\":\"c\",\"text\":\"\",\"x\":[0,1,2,3,4,5,6,7,8,9,10,11,12,13,14,15,16,17,18,19,20,21,22,23,24,25,26,27,28,29,30,31,32,33,34,35,36,37,38,39,40,41,42,43,44,45,46,47,48,49],\"y\":[-0.8366713316837386,-0.1393309510948683,0.19545055225849545,-0.16966299372748475,-0.4550021072241301,1.331376155250598,-0.47147448503714057,-0.12786154725428042,-0.8105234624592302,0.34112445433206195,-0.6468021002765861,0.74120283784585,0.574282145000396,-1.110447352014391,0.14292403800483783,0.6663215711283491,0.6597445540878236,0.6504264656467631,-0.542336409710927,0.5880559402865915,0.5607816664337071,0.45531386922117034,1.3946114523374442,-0.1582411584952272,-0.4163727075078487,-0.9107885861607452,-0.6258677736957691,-1.065925075051022,-0.4132986798877167,1.953933882488452,-1.480134176809112,0.20651237113975707,-0.6530158672490212,-1.6351291892928799,-0.46730723093123244,1.7128262612962988,-0.6554746880216706,-1.0371440771109428,-0.9505086951455829,1.535816278771727,-1.2796174886996354,-1.1275869030698755,0.15946107375225302,-1.358005390789839,1.9984883065804138,-0.40693780026270115,0.15436703287129136,1.2145520686865123,-0.27838061862766816,-0.09733110344511846],\"type\":\"scatter\"},{\"line\":{\"color\":\"rgba(128, 0, 128, 1.0)\",\"dash\":\"solid\",\"shape\":\"linear\",\"width\":1.3},\"mode\":\"lines\",\"name\":\"d\",\"text\":\"\",\"x\":[0,1,2,3,4,5,6,7,8,9,10,11,12,13,14,15,16,17,18,19,20,21,22,23,24,25,26,27,28,29,30,31,32,33,34,35,36,37,38,39,40,41,42,43,44,45,46,47,48,49],\"y\":[-0.2889127358702883,0.08740312883222376,-0.14265658598214395,0.4301139566725566,-1.019752780911339,-0.477558212819846,0.8798528795244414,0.8741084448731534,-1.2586403052976012,0.8546721327910863,-1.3357783275266004,0.261819726402101,-0.9503705113062506,1.0186130351804865,0.2875187305048612,-0.2735199834914119,-0.0221555738920522,0.5181244652435315,-0.4164454451513519,-1.3588785569999196,-0.6952643926828254,-1.3269044770493477,0.06408239334219493,-0.5705919460616599,0.7957593415444191,2.6000424800758104,0.7284299476405873,-0.532260032667479,-1.9015781536536052,1.8613244102694082,0.21512256482335346,0.15700080037533853,0.5166703759113608,0.21809688164234306,-0.7661256941834118,3.3017525609833682,0.4747615664992886,-0.4728233766592755,-0.3227545038745599,-0.2069938521879116,0.058739444721687885,-0.992006624760395,-0.1943702843441311,1.1417371662231315,-0.1737881929290892,-1.8542352203487773,1.046188831403989,0.8452347920324879,-1.585743855983834,0.27611218467930027],\"type\":\"scatter\"}],                        {\"legend\":{\"bgcolor\":\"#F5F6F9\",\"font\":{\"color\":\"#4D5663\"}},\"paper_bgcolor\":\"#F5F6F9\",\"plot_bgcolor\":\"#F5F6F9\",\"template\":{\"data\":{\"barpolar\":[{\"marker\":{\"line\":{\"color\":\"#E5ECF6\",\"width\":0.5},\"pattern\":{\"fillmode\":\"overlay\",\"size\":10,\"solidity\":0.2}},\"type\":\"barpolar\"}],\"bar\":[{\"error_x\":{\"color\":\"#2a3f5f\"},\"error_y\":{\"color\":\"#2a3f5f\"},\"marker\":{\"line\":{\"color\":\"#E5ECF6\",\"width\":0.5},\"pattern\":{\"fillmode\":\"overlay\",\"size\":10,\"solidity\":0.2}},\"type\":\"bar\"}],\"carpet\":[{\"aaxis\":{\"endlinecolor\":\"#2a3f5f\",\"gridcolor\":\"white\",\"linecolor\":\"white\",\"minorgridcolor\":\"white\",\"startlinecolor\":\"#2a3f5f\"},\"baxis\":{\"endlinecolor\":\"#2a3f5f\",\"gridcolor\":\"white\",\"linecolor\":\"white\",\"minorgridcolor\":\"white\",\"startlinecolor\":\"#2a3f5f\"},\"type\":\"carpet\"}],\"choropleth\":[{\"colorbar\":{\"outlinewidth\":0,\"ticks\":\"\"},\"type\":\"choropleth\"}],\"contourcarpet\":[{\"colorbar\":{\"outlinewidth\":0,\"ticks\":\"\"},\"type\":\"contourcarpet\"}],\"contour\":[{\"colorbar\":{\"outlinewidth\":0,\"ticks\":\"\"},\"colorscale\":[[0.0,\"#0d0887\"],[0.1111111111111111,\"#46039f\"],[0.2222222222222222,\"#7201a8\"],[0.3333333333333333,\"#9c179e\"],[0.4444444444444444,\"#bd3786\"],[0.5555555555555556,\"#d8576b\"],[0.6666666666666666,\"#ed7953\"],[0.7777777777777778,\"#fb9f3a\"],[0.8888888888888888,\"#fdca26\"],[1.0,\"#f0f921\"]],\"type\":\"contour\"}],\"heatmapgl\":[{\"colorbar\":{\"outlinewidth\":0,\"ticks\":\"\"},\"colorscale\":[[0.0,\"#0d0887\"],[0.1111111111111111,\"#46039f\"],[0.2222222222222222,\"#7201a8\"],[0.3333333333333333,\"#9c179e\"],[0.4444444444444444,\"#bd3786\"],[0.5555555555555556,\"#d8576b\"],[0.6666666666666666,\"#ed7953\"],[0.7777777777777778,\"#fb9f3a\"],[0.8888888888888888,\"#fdca26\"],[1.0,\"#f0f921\"]],\"type\":\"heatmapgl\"}],\"heatmap\":[{\"colorbar\":{\"outlinewidth\":0,\"ticks\":\"\"},\"colorscale\":[[0.0,\"#0d0887\"],[0.1111111111111111,\"#46039f\"],[0.2222222222222222,\"#7201a8\"],[0.3333333333333333,\"#9c179e\"],[0.4444444444444444,\"#bd3786\"],[0.5555555555555556,\"#d8576b\"],[0.6666666666666666,\"#ed7953\"],[0.7777777777777778,\"#fb9f3a\"],[0.8888888888888888,\"#fdca26\"],[1.0,\"#f0f921\"]],\"type\":\"heatmap\"}],\"histogram2dcontour\":[{\"colorbar\":{\"outlinewidth\":0,\"ticks\":\"\"},\"colorscale\":[[0.0,\"#0d0887\"],[0.1111111111111111,\"#46039f\"],[0.2222222222222222,\"#7201a8\"],[0.3333333333333333,\"#9c179e\"],[0.4444444444444444,\"#bd3786\"],[0.5555555555555556,\"#d8576b\"],[0.6666666666666666,\"#ed7953\"],[0.7777777777777778,\"#fb9f3a\"],[0.8888888888888888,\"#fdca26\"],[1.0,\"#f0f921\"]],\"type\":\"histogram2dcontour\"}],\"histogram2d\":[{\"colorbar\":{\"outlinewidth\":0,\"ticks\":\"\"},\"colorscale\":[[0.0,\"#0d0887\"],[0.1111111111111111,\"#46039f\"],[0.2222222222222222,\"#7201a8\"],[0.3333333333333333,\"#9c179e\"],[0.4444444444444444,\"#bd3786\"],[0.5555555555555556,\"#d8576b\"],[0.6666666666666666,\"#ed7953\"],[0.7777777777777778,\"#fb9f3a\"],[0.8888888888888888,\"#fdca26\"],[1.0,\"#f0f921\"]],\"type\":\"histogram2d\"}],\"histogram\":[{\"marker\":{\"pattern\":{\"fillmode\":\"overlay\",\"size\":10,\"solidity\":0.2}},\"type\":\"histogram\"}],\"mesh3d\":[{\"colorbar\":{\"outlinewidth\":0,\"ticks\":\"\"},\"type\":\"mesh3d\"}],\"parcoords\":[{\"line\":{\"colorbar\":{\"outlinewidth\":0,\"ticks\":\"\"}},\"type\":\"parcoords\"}],\"pie\":[{\"automargin\":true,\"type\":\"pie\"}],\"scatter3d\":[{\"line\":{\"colorbar\":{\"outlinewidth\":0,\"ticks\":\"\"}},\"marker\":{\"colorbar\":{\"outlinewidth\":0,\"ticks\":\"\"}},\"type\":\"scatter3d\"}],\"scattercarpet\":[{\"marker\":{\"colorbar\":{\"outlinewidth\":0,\"ticks\":\"\"}},\"type\":\"scattercarpet\"}],\"scattergeo\":[{\"marker\":{\"colorbar\":{\"outlinewidth\":0,\"ticks\":\"\"}},\"type\":\"scattergeo\"}],\"scattergl\":[{\"marker\":{\"colorbar\":{\"outlinewidth\":0,\"ticks\":\"\"}},\"type\":\"scattergl\"}],\"scattermapbox\":[{\"marker\":{\"colorbar\":{\"outlinewidth\":0,\"ticks\":\"\"}},\"type\":\"scattermapbox\"}],\"scatterpolargl\":[{\"marker\":{\"colorbar\":{\"outlinewidth\":0,\"ticks\":\"\"}},\"type\":\"scatterpolargl\"}],\"scatterpolar\":[{\"marker\":{\"colorbar\":{\"outlinewidth\":0,\"ticks\":\"\"}},\"type\":\"scatterpolar\"}],\"scatter\":[{\"marker\":{\"colorbar\":{\"outlinewidth\":0,\"ticks\":\"\"}},\"type\":\"scatter\"}],\"scatterternary\":[{\"marker\":{\"colorbar\":{\"outlinewidth\":0,\"ticks\":\"\"}},\"type\":\"scatterternary\"}],\"surface\":[{\"colorbar\":{\"outlinewidth\":0,\"ticks\":\"\"},\"colorscale\":[[0.0,\"#0d0887\"],[0.1111111111111111,\"#46039f\"],[0.2222222222222222,\"#7201a8\"],[0.3333333333333333,\"#9c179e\"],[0.4444444444444444,\"#bd3786\"],[0.5555555555555556,\"#d8576b\"],[0.6666666666666666,\"#ed7953\"],[0.7777777777777778,\"#fb9f3a\"],[0.8888888888888888,\"#fdca26\"],[1.0,\"#f0f921\"]],\"type\":\"surface\"}],\"table\":[{\"cells\":{\"fill\":{\"color\":\"#EBF0F8\"},\"line\":{\"color\":\"white\"}},\"header\":{\"fill\":{\"color\":\"#C8D4E3\"},\"line\":{\"color\":\"white\"}},\"type\":\"table\"}]},\"layout\":{\"annotationdefaults\":{\"arrowcolor\":\"#2a3f5f\",\"arrowhead\":0,\"arrowwidth\":1},\"autotypenumbers\":\"strict\",\"coloraxis\":{\"colorbar\":{\"outlinewidth\":0,\"ticks\":\"\"}},\"colorscale\":{\"diverging\":[[0,\"#8e0152\"],[0.1,\"#c51b7d\"],[0.2,\"#de77ae\"],[0.3,\"#f1b6da\"],[0.4,\"#fde0ef\"],[0.5,\"#f7f7f7\"],[0.6,\"#e6f5d0\"],[0.7,\"#b8e186\"],[0.8,\"#7fbc41\"],[0.9,\"#4d9221\"],[1,\"#276419\"]],\"sequential\":[[0.0,\"#0d0887\"],[0.1111111111111111,\"#46039f\"],[0.2222222222222222,\"#7201a8\"],[0.3333333333333333,\"#9c179e\"],[0.4444444444444444,\"#bd3786\"],[0.5555555555555556,\"#d8576b\"],[0.6666666666666666,\"#ed7953\"],[0.7777777777777778,\"#fb9f3a\"],[0.8888888888888888,\"#fdca26\"],[1.0,\"#f0f921\"]],\"sequentialminus\":[[0.0,\"#0d0887\"],[0.1111111111111111,\"#46039f\"],[0.2222222222222222,\"#7201a8\"],[0.3333333333333333,\"#9c179e\"],[0.4444444444444444,\"#bd3786\"],[0.5555555555555556,\"#d8576b\"],[0.6666666666666666,\"#ed7953\"],[0.7777777777777778,\"#fb9f3a\"],[0.8888888888888888,\"#fdca26\"],[1.0,\"#f0f921\"]]},\"colorway\":[\"#636efa\",\"#EF553B\",\"#00cc96\",\"#ab63fa\",\"#FFA15A\",\"#19d3f3\",\"#FF6692\",\"#B6E880\",\"#FF97FF\",\"#FECB52\"],\"font\":{\"color\":\"#2a3f5f\"},\"geo\":{\"bgcolor\":\"white\",\"lakecolor\":\"white\",\"landcolor\":\"#E5ECF6\",\"showlakes\":true,\"showland\":true,\"subunitcolor\":\"white\"},\"hoverlabel\":{\"align\":\"left\"},\"hovermode\":\"closest\",\"mapbox\":{\"style\":\"light\"},\"paper_bgcolor\":\"white\",\"plot_bgcolor\":\"#E5ECF6\",\"polar\":{\"angularaxis\":{\"gridcolor\":\"white\",\"linecolor\":\"white\",\"ticks\":\"\"},\"bgcolor\":\"#E5ECF6\",\"radialaxis\":{\"gridcolor\":\"white\",\"linecolor\":\"white\",\"ticks\":\"\"}},\"scene\":{\"xaxis\":{\"backgroundcolor\":\"#E5ECF6\",\"gridcolor\":\"white\",\"gridwidth\":2,\"linecolor\":\"white\",\"showbackground\":true,\"ticks\":\"\",\"zerolinecolor\":\"white\"},\"yaxis\":{\"backgroundcolor\":\"#E5ECF6\",\"gridcolor\":\"white\",\"gridwidth\":2,\"linecolor\":\"white\",\"showbackground\":true,\"ticks\":\"\",\"zerolinecolor\":\"white\"},\"zaxis\":{\"backgroundcolor\":\"#E5ECF6\",\"gridcolor\":\"white\",\"gridwidth\":2,\"linecolor\":\"white\",\"showbackground\":true,\"ticks\":\"\",\"zerolinecolor\":\"white\"}},\"shapedefaults\":{\"line\":{\"color\":\"#2a3f5f\"}},\"ternary\":{\"aaxis\":{\"gridcolor\":\"white\",\"linecolor\":\"white\",\"ticks\":\"\"},\"baxis\":{\"gridcolor\":\"white\",\"linecolor\":\"white\",\"ticks\":\"\"},\"bgcolor\":\"#E5ECF6\",\"caxis\":{\"gridcolor\":\"white\",\"linecolor\":\"white\",\"ticks\":\"\"}},\"title\":{\"x\":0.05},\"xaxis\":{\"automargin\":true,\"gridcolor\":\"white\",\"linecolor\":\"white\",\"ticks\":\"\",\"title\":{\"standoff\":15},\"zerolinecolor\":\"white\",\"zerolinewidth\":2},\"yaxis\":{\"automargin\":true,\"gridcolor\":\"white\",\"linecolor\":\"white\",\"ticks\":\"\",\"title\":{\"standoff\":15},\"zerolinecolor\":\"white\",\"zerolinewidth\":2}}},\"title\":{\"font\":{\"color\":\"#4D5663\"}},\"xaxis\":{\"gridcolor\":\"#E1E5ED\",\"showgrid\":true,\"tickfont\":{\"color\":\"#4D5663\"},\"title\":{\"font\":{\"color\":\"#4D5663\"},\"text\":\"\"},\"zerolinecolor\":\"#E1E5ED\"},\"yaxis\":{\"gridcolor\":\"#E1E5ED\",\"showgrid\":true,\"tickfont\":{\"color\":\"#4D5663\"},\"title\":{\"font\":{\"color\":\"#4D5663\"},\"text\":\"\"},\"zerolinecolor\":\"#E1E5ED\"}},                        {\"showLink\": true, \"linkText\": \"Export to plot.ly\", \"plotlyServerURL\": \"https://plot.ly\", \"responsive\": true}                    ).then(function(){\n",
       "                            \n",
       "var gd = document.getElementById('c3b72f1d-2522-4b8f-8012-0d173f354067');\n",
       "var x = new MutationObserver(function (mutations, observer) {{\n",
       "        var display = window.getComputedStyle(gd).display;\n",
       "        if (!display || display === 'none') {{\n",
       "            console.log([gd, 'removed!']);\n",
       "            Plotly.purge(gd);\n",
       "            observer.disconnect();\n",
       "        }}\n",
       "}});\n",
       "\n",
       "// Listen for the removal of the full notebook cells\n",
       "var notebookContainer = gd.closest('#notebook-container');\n",
       "if (notebookContainer) {{\n",
       "    x.observe(notebookContainer, {childList: true});\n",
       "}}\n",
       "\n",
       "// Listen for the clearing of the current output cell\n",
       "var outputEl = gd.closest('.output');\n",
       "if (outputEl) {{\n",
       "    x.observe(outputEl, {childList: true});\n",
       "}}\n",
       "\n",
       "                        })                };                });            </script>        </div>"
      ]
     },
     "metadata": {},
     "output_type": "display_data"
    }
   ],
   "source": [
    "import pandas as pd\n",
    "import numpy as np\n",
    "import cufflinks as cf\n",
    "import chart_studio.plotly as py\n",
    "import seaborn as sns\n",
    "import plotly.express as px\n",
    "%matplotlib inline\n",
    "\n",
    "from plotly.offline import download_plotlyjs, init_notebook_mode, plot, iplot\n",
    "init_notebook_mode(connected=True)\n",
    "cf.go_offline()\n",
    "\n",
    "arr_1 = np.random.randn(50,4)\n",
    "df_1 = pd.DataFrame(arr_1, columns= ['a','b','c','d'])\n",
    "df_1.iplot()"
   ]
  }
 ],
 "metadata": {
  "kernelspec": {
   "display_name": "Python 3 (ipykernel)",
   "language": "python",
   "name": "python3"
  },
  "language_info": {
   "codemirror_mode": {
    "name": "ipython",
    "version": 3
   },
   "file_extension": ".py",
   "mimetype": "text/x-python",
   "name": "python",
   "nbconvert_exporter": "python",
   "pygments_lexer": "ipython3",
   "version": "3.9.12"
  },
  "vscode": {
   "interpreter": {
    "hash": "c2238120c9728f74513279f8a3f1aeaaba1d165fa4f95681a8f2d6d36a71a29d"
   }
  }
 },
 "nbformat": 4,
 "nbformat_minor": 5
}
